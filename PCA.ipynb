{
 "cells": [
  {
   "cell_type": "code",
   "execution_count": 1,
   "id": "d9a2786e-38ea-4b0c-8a4f-50f8a33da104",
   "metadata": {},
   "outputs": [],
   "source": [
    "import numpy as np\n",
    "import pandas as pd\n",
    "import matplotlib.pyplot as plt\n",
    "import matplotlib"
   ]
  },
  {
   "cell_type": "code",
   "execution_count": 2,
   "id": "bc89e940-e956-4e32-a5d7-7a6a3f762704",
   "metadata": {},
   "outputs": [
    {
     "name": "stderr",
     "output_type": "stream",
     "text": [
      "/home/simone/Desktop/mobilityinference/mobility_env/lib/python3.9/site-packages/openpyxl/styles/stylesheet.py:226: UserWarning: Workbook contains no default style, apply openpyxl's default\n",
      "  warn(\"Workbook contains no default style, apply openpyxl's default\")\n"
     ]
    }
   ],
   "source": [
    "df = pd.read_excel('data/Macedonia_AllIndicatorsAvailable_TerritorialRef_1993_2012_CCode_807.xlsx')"
   ]
  },
  {
   "cell_type": "code",
   "execution_count": 3,
   "id": "4ff964b5-f59f-459f-be80-44c6834cc69f",
   "metadata": {},
   "outputs": [
    {
     "data": {
      "text/html": [
       "<div>\n",
       "<style scoped>\n",
       "    .dataframe tbody tr th:only-of-type {\n",
       "        vertical-align: middle;\n",
       "    }\n",
       "\n",
       "    .dataframe tbody tr th {\n",
       "        vertical-align: top;\n",
       "    }\n",
       "\n",
       "    .dataframe thead th {\n",
       "        text-align: right;\n",
       "    }\n",
       "</style>\n",
       "<table border=\"1\" class=\"dataframe\">\n",
       "  <thead>\n",
       "    <tr style=\"text-align: right;\">\n",
       "      <th></th>\n",
       "      <th>Country Code</th>\n",
       "      <th>Country Name</th>\n",
       "      <th>Indicator</th>\n",
       "      <th>1500</th>\n",
       "      <th>1501</th>\n",
       "      <th>1502</th>\n",
       "      <th>1503</th>\n",
       "      <th>1504</th>\n",
       "      <th>1505</th>\n",
       "      <th>1506</th>\n",
       "      <th>...</th>\n",
       "      <th>2041</th>\n",
       "      <th>2042</th>\n",
       "      <th>2043</th>\n",
       "      <th>2044</th>\n",
       "      <th>2045</th>\n",
       "      <th>2046</th>\n",
       "      <th>2047</th>\n",
       "      <th>2048</th>\n",
       "      <th>2049</th>\n",
       "      <th>2050</th>\n",
       "    </tr>\n",
       "  </thead>\n",
       "  <tbody>\n",
       "    <tr>\n",
       "      <th>0</th>\n",
       "      <td>807.0</td>\n",
       "      <td>Macedonia</td>\n",
       "      <td>Aluminium Production</td>\n",
       "      <td>NaN</td>\n",
       "      <td>NaN</td>\n",
       "      <td>NaN</td>\n",
       "      <td>NaN</td>\n",
       "      <td>NaN</td>\n",
       "      <td>NaN</td>\n",
       "      <td>NaN</td>\n",
       "      <td>...</td>\n",
       "      <td>NaN</td>\n",
       "      <td>NaN</td>\n",
       "      <td>NaN</td>\n",
       "      <td>NaN</td>\n",
       "      <td>NaN</td>\n",
       "      <td>NaN</td>\n",
       "      <td>NaN</td>\n",
       "      <td>NaN</td>\n",
       "      <td>NaN</td>\n",
       "      <td>NaN</td>\n",
       "    </tr>\n",
       "    <tr>\n",
       "      <th>1</th>\n",
       "      <td>807.0</td>\n",
       "      <td>Macedonia</td>\n",
       "      <td>Armed conflicts (Internal)</td>\n",
       "      <td>0.0</td>\n",
       "      <td>0.0</td>\n",
       "      <td>0.0</td>\n",
       "      <td>0.0</td>\n",
       "      <td>0.0</td>\n",
       "      <td>0.0</td>\n",
       "      <td>0.0</td>\n",
       "      <td>...</td>\n",
       "      <td>NaN</td>\n",
       "      <td>NaN</td>\n",
       "      <td>NaN</td>\n",
       "      <td>NaN</td>\n",
       "      <td>NaN</td>\n",
       "      <td>NaN</td>\n",
       "      <td>NaN</td>\n",
       "      <td>NaN</td>\n",
       "      <td>NaN</td>\n",
       "      <td>NaN</td>\n",
       "    </tr>\n",
       "    <tr>\n",
       "      <th>2</th>\n",
       "      <td>807.0</td>\n",
       "      <td>Macedonia</td>\n",
       "      <td>Armed Conflicts (International)</td>\n",
       "      <td>0.0</td>\n",
       "      <td>0.0</td>\n",
       "      <td>0.0</td>\n",
       "      <td>0.0</td>\n",
       "      <td>0.0</td>\n",
       "      <td>0.0</td>\n",
       "      <td>0.0</td>\n",
       "      <td>...</td>\n",
       "      <td>NaN</td>\n",
       "      <td>NaN</td>\n",
       "      <td>NaN</td>\n",
       "      <td>NaN</td>\n",
       "      <td>NaN</td>\n",
       "      <td>NaN</td>\n",
       "      <td>NaN</td>\n",
       "      <td>NaN</td>\n",
       "      <td>NaN</td>\n",
       "      <td>NaN</td>\n",
       "    </tr>\n",
       "    <tr>\n",
       "      <th>3</th>\n",
       "      <td>807.0</td>\n",
       "      <td>Macedonia</td>\n",
       "      <td>Bauxite Production</td>\n",
       "      <td>NaN</td>\n",
       "      <td>NaN</td>\n",
       "      <td>NaN</td>\n",
       "      <td>NaN</td>\n",
       "      <td>NaN</td>\n",
       "      <td>NaN</td>\n",
       "      <td>NaN</td>\n",
       "      <td>...</td>\n",
       "      <td>NaN</td>\n",
       "      <td>NaN</td>\n",
       "      <td>NaN</td>\n",
       "      <td>NaN</td>\n",
       "      <td>NaN</td>\n",
       "      <td>NaN</td>\n",
       "      <td>NaN</td>\n",
       "      <td>NaN</td>\n",
       "      <td>NaN</td>\n",
       "      <td>NaN</td>\n",
       "    </tr>\n",
       "    <tr>\n",
       "      <th>4</th>\n",
       "      <td>807.0</td>\n",
       "      <td>Macedonia</td>\n",
       "      <td>Book Titles per Capita</td>\n",
       "      <td>NaN</td>\n",
       "      <td>NaN</td>\n",
       "      <td>NaN</td>\n",
       "      <td>NaN</td>\n",
       "      <td>NaN</td>\n",
       "      <td>NaN</td>\n",
       "      <td>NaN</td>\n",
       "      <td>...</td>\n",
       "      <td>NaN</td>\n",
       "      <td>NaN</td>\n",
       "      <td>NaN</td>\n",
       "      <td>NaN</td>\n",
       "      <td>NaN</td>\n",
       "      <td>NaN</td>\n",
       "      <td>NaN</td>\n",
       "      <td>NaN</td>\n",
       "      <td>NaN</td>\n",
       "      <td>NaN</td>\n",
       "    </tr>\n",
       "  </tbody>\n",
       "</table>\n",
       "<p>5 rows × 554 columns</p>\n",
       "</div>"
      ],
      "text/plain": [
       "   Country Code Country Name                        Indicator  1500  1501  \\\n",
       "0         807.0    Macedonia             Aluminium Production   NaN   NaN   \n",
       "1         807.0    Macedonia       Armed conflicts (Internal)   0.0   0.0   \n",
       "2         807.0    Macedonia  Armed Conflicts (International)   0.0   0.0   \n",
       "3         807.0    Macedonia               Bauxite Production   NaN   NaN   \n",
       "4         807.0    Macedonia           Book Titles per Capita   NaN   NaN   \n",
       "\n",
       "   1502  1503  1504  1505  1506  ...  2041  2042  2043  2044  2045  2046  \\\n",
       "0   NaN   NaN   NaN   NaN   NaN  ...   NaN   NaN   NaN   NaN   NaN   NaN   \n",
       "1   0.0   0.0   0.0   0.0   0.0  ...   NaN   NaN   NaN   NaN   NaN   NaN   \n",
       "2   0.0   0.0   0.0   0.0   0.0  ...   NaN   NaN   NaN   NaN   NaN   NaN   \n",
       "3   NaN   NaN   NaN   NaN   NaN  ...   NaN   NaN   NaN   NaN   NaN   NaN   \n",
       "4   NaN   NaN   NaN   NaN   NaN  ...   NaN   NaN   NaN   NaN   NaN   NaN   \n",
       "\n",
       "   2047  2048  2049  2050  \n",
       "0   NaN   NaN   NaN   NaN  \n",
       "1   NaN   NaN   NaN   NaN  \n",
       "2   NaN   NaN   NaN   NaN  \n",
       "3   NaN   NaN   NaN   NaN  \n",
       "4   NaN   NaN   NaN   NaN  \n",
       "\n",
       "[5 rows x 554 columns]"
      ]
     },
     "execution_count": 3,
     "metadata": {},
     "output_type": "execute_result"
    }
   ],
   "source": [
    "df.head()"
   ]
  },
  {
   "cell_type": "code",
   "execution_count": 4,
   "id": "c0fddba1-3198-4cd0-a0fc-dddfc2b7148a",
   "metadata": {},
   "outputs": [
    {
     "data": {
      "text/plain": [
       "array(['Aluminium Production', 'Armed conflicts (Internal)',\n",
       "       'Armed Conflicts (International)', 'Bauxite Production',\n",
       "       'Book Titles per Capita', 'Cattle per Capita',\n",
       "       'Competitiveness of Executive Recruitment (XRCOMP)',\n",
       "       'Competitiveness of Participations (PARCOMP)',\n",
       "       'Composite Measure of Wellbeing', 'Copper Production',\n",
       "       'Cropland per Capita', 'Exchange Rates to UK Pound',\n",
       "       'Exchange Rates to US Dollar', 'Executive Constraints (XCONST)',\n",
       "       'Female life expectancy at Birth', 'GDP per Capita',\n",
       "       'Gender Equality of Numeracy',\n",
       "       'Global Extreme Poverty Cost of Basic Needs',\n",
       "       'Global Extreme Poverty Dollar a Day', 'Goats per Capita',\n",
       "       'Gold Production', 'Height', 'Height Gini', 'Homicide Rates',\n",
       "       'Income Inequality', 'Infant Mortality', 'Inflation',\n",
       "       'Iron Ore Production', 'Latent Democracy Variable',\n",
       "       'Lead Production', 'Life Expectancy at Birth (Total)',\n",
       "       'Male life Expectancy at Birth', 'Nickel Production',\n",
       "       'Numeracy (Total)', 'Openness of Executive Recruitment (XROPEN)',\n",
       "       'Pasture per Capita', 'Pigs per Capita', 'Political Competition',\n",
       "       'Political Participation', 'Polity2 Index', 'Polyarchy',\n",
       "       'Regulation of Chief Executive Recruitment (XRREG)',\n",
       "       'Regulation of Participation (PARREG)',\n",
       "       'Share of Women in Parliament', 'Sheep per Capita',\n",
       "       'Silver Production', 'SO2 Emissions per Capita', 'Total Cattle',\n",
       "       'Total CO2 Emissions', 'Total Cropland', 'Total Number of Goats',\n",
       "       'Total Number of Pigs', 'Total Number of Sheep', 'Total Pasture',\n",
       "       'Total Population', 'Total SO2 Emissions', 'Tungsten Production',\n",
       "       'Unified Democracy Scores (UDS)', 'Universities Founded',\n",
       "       'Zinc Production'], dtype=object)"
      ]
     },
     "execution_count": 4,
     "metadata": {},
     "output_type": "execute_result"
    }
   ],
   "source": [
    "df['Indicator'].unique()"
   ]
  },
  {
   "cell_type": "code",
   "execution_count": 5,
   "id": "64bb61ee-e347-44d8-b6b6-d26aba90cf78",
   "metadata": {},
   "outputs": [],
   "source": [
    "ts_list=['GDP per Capita','Pasture per Capita','Copper Production']\n",
    "\n",
    "\n",
    "def time_series_from_raw_data(df,ts_list):\n",
    "    \n",
    "    #getting the indicators we want\n",
    "    df_cut = df.loc[df['Indicator'].isin(ts_list)]\n",
    "    \n",
    "    #list of years not nan\n",
    "    not_nan_list=list(df_cut.stack()\n",
    "       .reset_index(level=1)\n",
    "       .groupby(level=0, sort=False)\n",
    "       ['level_1'].apply(list)\n",
    "    )\n",
    "    \n",
    "    #get intersection between the variables definition years\n",
    "    set_common=set.intersection(*map(set,not_nan_list))\n",
    "    set_common.difference_update(['Country Code',\n",
    "     'Country Name'])\n",
    "    \n",
    "    #cut and reindex\n",
    "    d=df_cut[list(set_common)]\n",
    "    d=d.reindex(sorted(d.columns), axis=1).set_index('Indicator').T\n",
    "    \n",
    "    return d"
   ]
  },
  {
   "cell_type": "code",
   "execution_count": 6,
   "id": "eff6040c-7d1f-4722-81da-1062a32751e5",
   "metadata": {},
   "outputs": [
    {
     "data": {
      "text/html": [
       "<div>\n",
       "<style scoped>\n",
       "    .dataframe tbody tr th:only-of-type {\n",
       "        vertical-align: middle;\n",
       "    }\n",
       "\n",
       "    .dataframe tbody tr th {\n",
       "        vertical-align: top;\n",
       "    }\n",
       "\n",
       "    .dataframe thead th {\n",
       "        text-align: right;\n",
       "    }\n",
       "</style>\n",
       "<table border=\"1\" class=\"dataframe\">\n",
       "  <thead>\n",
       "    <tr style=\"text-align: right;\">\n",
       "      <th>Indicator</th>\n",
       "      <th>Copper Production</th>\n",
       "      <th>GDP per Capita</th>\n",
       "      <th>Pasture per Capita</th>\n",
       "    </tr>\n",
       "  </thead>\n",
       "  <tbody>\n",
       "    <tr>\n",
       "      <th>1960</th>\n",
       "      <td>2.750678</td>\n",
       "      <td>3586.00</td>\n",
       "      <td>0.734118</td>\n",
       "    </tr>\n",
       "    <tr>\n",
       "      <th>1970</th>\n",
       "      <td>6.994580</td>\n",
       "      <td>6545.00</td>\n",
       "      <td>0.710585</td>\n",
       "    </tr>\n",
       "    <tr>\n",
       "      <th>1980</th>\n",
       "      <td>10.295390</td>\n",
       "      <td>9899.00</td>\n",
       "      <td>0.699801</td>\n",
       "    </tr>\n",
       "    <tr>\n",
       "      <th>1990</th>\n",
       "      <td>10.924120</td>\n",
       "      <td>9173.00</td>\n",
       "      <td>0.684333</td>\n",
       "    </tr>\n",
       "    <tr>\n",
       "      <th>2000</th>\n",
       "      <td>6.000000</td>\n",
       "      <td>8083.79</td>\n",
       "      <td>0.434898</td>\n",
       "    </tr>\n",
       "  </tbody>\n",
       "</table>\n",
       "</div>"
      ],
      "text/plain": [
       "Indicator  Copper Production  GDP per Capita  Pasture per Capita\n",
       "1960                2.750678         3586.00            0.734118\n",
       "1970                6.994580         6545.00            0.710585\n",
       "1980               10.295390         9899.00            0.699801\n",
       "1990               10.924120         9173.00            0.684333\n",
       "2000                6.000000         8083.79            0.434898"
      ]
     },
     "execution_count": 6,
     "metadata": {},
     "output_type": "execute_result"
    }
   ],
   "source": [
    "dd=time_series_from_raw_data(df,ts_list)\n",
    "dd.head()"
   ]
  },
  {
   "cell_type": "markdown",
   "id": "0e3a86a5-6934-4214-8dcc-3152adfb390d",
   "metadata": {},
   "source": [
    "## PCA"
   ]
  },
  {
   "cell_type": "code",
   "execution_count": null,
   "id": "38a431c0-0373-4f74-b074-c8f44a8f190a",
   "metadata": {},
   "outputs": [
    {
     "data": {
      "text/plain": [
       "array([[-1.72727751, -1.26260789, -1.55534274],\n",
       "       [-0.40706529, -0.67297982, -0.13347064],\n",
       "       [ 1.08938345,  1.09183397,  0.97242899],\n",
       "       [ 0.7654652 ,  1.25998721,  1.18307798],\n",
       "       [ 0.27949415, -0.41623347, -0.46669359]])"
      ]
     },
     "execution_count": 37,
     "metadata": {},
     "output_type": "execute_result"
    }
   ],
   "source": [
    "from sklearn.preprocessing import StandardScaler\n",
    "\n",
    "features = ts_list\n",
    "\n",
    "x = d.loc[:, features].values# Separating out the target\n",
    "x = StandardScaler().fit_transform(x)\n",
    "x"
   ]
  },
  {
   "cell_type": "code",
   "execution_count": 38,
   "id": "1c7a5577-44a2-4db7-adb0-0be43fdb6e4c",
   "metadata": {},
   "outputs": [],
   "source": [
    "from sklearn.decomposition import PCA\n",
    "\n",
    "pca = PCA(n_components=2)\n",
    "principalComponents = pca.fit_transform(x)\n",
    "\n",
    "principalDf = pd.DataFrame(data = principalComponents\n",
    "             , columns = ['principal component 1', 'principal component 2'])"
   ]
  },
  {
   "cell_type": "code",
   "execution_count": 39,
   "id": "5fd1661a-412d-4dba-a00c-b6bb7b792900",
   "metadata": {},
   "outputs": [
    {
     "data": {
      "text/html": [
       "<div>\n",
       "<style scoped>\n",
       "    .dataframe tbody tr th:only-of-type {\n",
       "        vertical-align: middle;\n",
       "    }\n",
       "\n",
       "    .dataframe tbody tr th {\n",
       "        vertical-align: top;\n",
       "    }\n",
       "\n",
       "    .dataframe thead th {\n",
       "        text-align: right;\n",
       "    }\n",
       "</style>\n",
       "<table border=\"1\" class=\"dataframe\">\n",
       "  <thead>\n",
       "    <tr style=\"text-align: right;\">\n",
       "      <th></th>\n",
       "      <th>principal component 1</th>\n",
       "      <th>principal component 2</th>\n",
       "    </tr>\n",
       "  </thead>\n",
       "  <tbody>\n",
       "    <tr>\n",
       "      <th>0</th>\n",
       "      <td>2.622182</td>\n",
       "      <td>-0.308028</td>\n",
       "    </tr>\n",
       "    <tr>\n",
       "      <th>1</th>\n",
       "      <td>0.699656</td>\n",
       "      <td>0.041308</td>\n",
       "    </tr>\n",
       "    <tr>\n",
       "      <th>2</th>\n",
       "      <td>-1.820048</td>\n",
       "      <td>0.051105</td>\n",
       "    </tr>\n",
       "    <tr>\n",
       "      <th>3</th>\n",
       "      <td>-1.855646</td>\n",
       "      <td>-0.360046</td>\n",
       "    </tr>\n",
       "    <tr>\n",
       "      <th>4</th>\n",
       "      <td>0.353855</td>\n",
       "      <td>0.575661</td>\n",
       "    </tr>\n",
       "  </tbody>\n",
       "</table>\n",
       "</div>"
      ],
      "text/plain": [
       "   principal component 1  principal component 2\n",
       "0               2.622182              -0.308028\n",
       "1               0.699656               0.041308\n",
       "2              -1.820048               0.051105\n",
       "3              -1.855646              -0.360046\n",
       "4               0.353855               0.575661"
      ]
     },
     "execution_count": 39,
     "metadata": {},
     "output_type": "execute_result"
    }
   ],
   "source": [
    "principalDf"
   ]
  },
  {
   "cell_type": "code",
   "execution_count": 40,
   "id": "b9286cd7-2680-4243-9e16-b26f77ceafbd",
   "metadata": {},
   "outputs": [
    {
     "data": {
      "text/plain": [
       "array([0.94977105, 0.03734789])"
      ]
     },
     "execution_count": 40,
     "metadata": {},
     "output_type": "execute_result"
    }
   ],
   "source": [
    "pca.explained_variance_ratio_"
   ]
  },
  {
   "cell_type": "code",
   "execution_count": 42,
   "id": "2cc4aaf2-54b1-4488-b4cf-f586c223fa27",
   "metadata": {},
   "outputs": [
    {
     "data": {
      "image/png": "[encoded data removed]",
      "text/plain": [
       "<Figure size 576x576 with 1 Axes>"
      ]
     },
     "metadata": {
      "needs_background": "light"
     },
     "output_type": "display_data"
    }
   ],
   "source": [
    "fig = plt.figure(figsize = (8,8))\n",
    "ax = fig.add_subplot(1,1,1) \n",
    "ax.set_xlabel('Principal Component 1', fontsize = 15)\n",
    "ax.set_ylabel('Principal Component 2', fontsize = 15)\n",
    "ax.set_title('2 component PCA', fontsize = 20)\n",
    "targets = ['Macedonia']\n",
    "colors = ['r']\n",
    "for target, color in zip(targets,colors):\n",
    "    # indicesToKeep = finalDf['target'] == target\n",
    "    ax.scatter(principalDf.loc[:, 'principal component 1']\n",
    "               , principalDf.loc[:, 'principal component 2']\n",
    "               , c = color\n",
    "               , s = 50)\n",
    "ax.legend(targets)\n",
    "ax.grid()"
   ]
  }
 ],
 "metadata": {
  "kernelspec": {
   "display_name": "Python 3 (ipykernel)",
   "language": "python",
   "name": "python3"
  },
  "language_info": {
   "codemirror_mode": {
    "name": "ipython",
    "version": 3
   },
   "file_extension": ".py",
   "mimetype": "text/x-python",
   "name": "python",
   "nbconvert_exporter": "python",
   "pygments_lexer": "ipython3",
   "version": "3.9.7"
  }
 },
 "nbformat": 4,
 "nbformat_minor": 5
}
